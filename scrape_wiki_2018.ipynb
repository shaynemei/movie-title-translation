{
 "cells": [
  {
   "cell_type": "code",
   "execution_count": 1,
   "metadata": {},
   "outputs": [],
   "source": [
    "import requests\n",
    "import re\n",
    "import pandas as pd\n",
    "from bs4 import BeautifulSoup"
   ]
  },
  {
   "cell_type": "code",
   "execution_count": null,
   "metadata": {},
   "outputs": [],
   "source": [
    "page = requests.get('https://en.wikipedia.org/wiki/Fantastic_Beasts_and_Where_to_Find_Them_(film)')\n",
    "soup = BeautifulSoup(page.content, 'html.parser')\n",
    "li = soup.find('li', class_='interlanguage-link interwiki-zh')\n",
    "lin = li.find('a')\n",
    "link = lin['href']"
   ]
  },
  {
   "cell_type": "code",
   "execution_count": 2,
   "metadata": {},
   "outputs": [
    {
     "data": {
      "text/html": [
       "<div>\n",
       "<style scoped>\n",
       "    .dataframe tbody tr th:only-of-type {\n",
       "        vertical-align: middle;\n",
       "    }\n",
       "\n",
       "    .dataframe tbody tr th {\n",
       "        vertical-align: top;\n",
       "    }\n",
       "\n",
       "    .dataframe thead th {\n",
       "        text-align: right;\n",
       "    }\n",
       "</style>\n",
       "<table border=\"1\" class=\"dataframe\">\n",
       "  <thead>\n",
       "    <tr style=\"text-align: right;\">\n",
       "      <th></th>\n",
       "      <th>Titles</th>\n",
       "    </tr>\n",
       "  </thead>\n",
       "  <tbody>\n",
       "    <tr>\n",
       "      <th>0</th>\n",
       "      <td>Avengers: Infinity War</td>\n",
       "    </tr>\n",
       "    <tr>\n",
       "      <th>1</th>\n",
       "      <td>Aquaman</td>\n",
       "    </tr>\n",
       "    <tr>\n",
       "      <th>2</th>\n",
       "      <td>Solo: A Star Wars Story</td>\n",
       "    </tr>\n",
       "    <tr>\n",
       "      <th>3</th>\n",
       "      <td>Fantastic Beasts: The Crimes of Grindelwald</td>\n",
       "    </tr>\n",
       "    <tr>\n",
       "      <th>4</th>\n",
       "      <td>Black Panther</td>\n",
       "    </tr>\n",
       "  </tbody>\n",
       "</table>\n",
       "</div>"
      ],
      "text/plain": [
       "                                        Titles\n",
       "0                       Avengers: Infinity War\n",
       "1                                      Aquaman\n",
       "2                      Solo: A Star Wars Story\n",
       "3  Fantastic Beasts: The Crimes of Grindelwald\n",
       "4                                Black Panther"
      ]
     },
     "execution_count": 2,
     "metadata": {},
     "output_type": "execute_result"
    }
   ],
   "source": [
    "df = pd.read_excel('titles2018.xlsx')\n",
    "df.head()"
   ]
  },
  {
   "cell_type": "code",
   "execution_count": 3,
   "metadata": {},
   "outputs": [
    {
     "data": {
      "text/plain": [
       "pandas.core.series.Series"
      ]
     },
     "execution_count": 3,
     "metadata": {},
     "output_type": "execute_result"
    }
   ],
   "source": [
    "titles = df['Titles']\n",
    "type(titles)"
   ]
  },
  {
   "cell_type": "code",
   "execution_count": 4,
   "metadata": {},
   "outputs": [
    {
     "data": {
      "text/plain": [
       "73"
      ]
     },
     "execution_count": 4,
     "metadata": {},
     "output_type": "execute_result"
    }
   ],
   "source": [
    "len(titles)"
   ]
  },
  {
   "cell_type": "code",
   "execution_count": 5,
   "metadata": {},
   "outputs": [],
   "source": [
    "links = []"
   ]
  },
  {
   "cell_type": "code",
   "execution_count": 6,
   "metadata": {},
   "outputs": [
    {
     "name": "stdout",
     "output_type": "stream",
     "text": [
      "Now processing title number0\n",
      "1\n",
      "Now processing title number1\n",
      "1\n",
      "Now processing title number2\n",
      "1\n",
      "Now processing title number3\n",
      "1\n",
      "Now processing title number4\n",
      "1\n",
      "Now processing title number5\n",
      "1\n",
      "Now processing title number6\n",
      "1\n",
      "Now processing title number7\n",
      "1\n",
      "Now processing title number8\n",
      "1\n",
      "Now processing title number9\n",
      "1\n",
      "Now processing title number10\n",
      "1\n",
      "Now processing title number11\n",
      "1\n",
      "Now processing title number12\n",
      "1\n",
      "Now processing title number13\n",
      "1\n",
      "Now processing title number14\n",
      "1\n",
      "Now processing title number15\n",
      "1\n",
      "Now processing title number16\n",
      "1\n",
      "Now processing title number17\n",
      "1\n",
      "Now processing title number18\n",
      "1\n",
      "Now processing title number19\n",
      "1\n",
      "Now processing title number20\n",
      "1\n",
      "Now processing title number21\n",
      "1\n",
      "Now processing title number22\n",
      "1\n",
      "Now processing title number23\n",
      "1\n",
      "Now processing title number24\n",
      "1\n",
      "Now processing title number25\n",
      "1\n",
      "Now processing title number26\n",
      "1\n",
      "Now processing title number27\n",
      "Not Found.\n",
      "Now processing title number28\n",
      "1\n",
      "Now processing title number29\n",
      "1\n",
      "Now processing title number30\n",
      "Not Found.\n",
      "Now processing title number31\n",
      "1\n",
      "Now processing title number32\n",
      "1\n",
      "Now processing title number33\n",
      "1\n",
      "Now processing title number34\n",
      "Not Found.\n",
      "Now processing title number35\n",
      "1\n",
      "Now processing title number36\n",
      "1\n",
      "Now processing title number37\n",
      "1\n",
      "Now processing title number38\n",
      "Not Found.\n",
      "Now processing title number39\n",
      "1\n",
      "Now processing title number40\n",
      "1\n",
      "Now processing title number41\n",
      "1\n",
      "Now processing title number42\n",
      "Not Found.\n",
      "Now processing title number43\n",
      "1\n",
      "Now processing title number44\n",
      "1\n",
      "Now processing title number45\n",
      "1\n",
      "Now processing title number46\n",
      "Not Found.\n",
      "Now processing title number47\n",
      "Not Found.\n",
      "Now processing title number48\n",
      "1\n",
      "Now processing title number49\n",
      "1\n",
      "Now processing title number50\n",
      "1\n",
      "Now processing title number51\n",
      "1\n",
      "Now processing title number52\n",
      "1\n",
      "Now processing title number53\n",
      "1\n",
      "Now processing title number54\n",
      "1\n",
      "Now processing title number55\n",
      "1\n",
      "Now processing title number56\n",
      "1\n",
      "Now processing title number57\n",
      "Not Found.\n",
      "Now processing title number58\n",
      "1\n",
      "Now processing title number59\n",
      "1\n",
      "Now processing title number60\n",
      "1\n",
      "Now processing title number61\n",
      "1\n",
      "Now processing title number62\n",
      "1\n",
      "Now processing title number63\n",
      "1\n",
      "Now processing title number64\n",
      "Not Found.\n",
      "Now processing title number65\n",
      "1\n",
      "Now processing title number66\n",
      "Not Found.\n",
      "Now processing title number67\n",
      "1\n",
      "Now processing title number68\n",
      "1\n",
      "Now processing title number69\n",
      "Not Found.\n",
      "Now processing title number70\n",
      "1\n",
      "Now processing title number71\n",
      "1\n",
      "Now processing title number72\n",
      "1\n"
     ]
    }
   ],
   "source": [
    "for idx, title in enumerate(titles):\n",
    "    title = title.replace(' ','_')\n",
    "    print('Now processing title number' + str(idx))\n",
    "    try:\n",
    "        try:\n",
    "            tmp = []\n",
    "            path = 'https://en.wikipedia.org/wiki/' + title + '_(film)'\n",
    "            page = requests.get(path)\n",
    "            soup = BeautifulSoup(page.content, 'html.parser')\n",
    "            li = soup.find('li', class_='interlanguage-link interwiki-zh')\n",
    "            lin = li.find('a')\n",
    "            link = lin['href']\n",
    "            tmp.append(link)\n",
    "            print(len(tmp))\n",
    "            links.append(tmp)\n",
    "        except:\n",
    "            tmp = []\n",
    "            path = 'https://en.wikipedia.org/wiki/' + title\n",
    "            page = requests.get(path)\n",
    "            soup = BeautifulSoup(page.content, 'html.parser')\n",
    "            li = soup.find('li', class_='interlanguage-link interwiki-zh')\n",
    "            lin = li.find('a')\n",
    "            link = lin['href']\n",
    "            tmp.append(link)\n",
    "            print(len(tmp))\n",
    "            links.append(tmp)\n",
    "    except:\n",
    "        links.append('404')\n",
    "        print('Not Found.')"
   ]
  },
  {
   "cell_type": "code",
   "execution_count": 15,
   "metadata": {},
   "outputs": [
    {
     "data": {
      "text/plain": [
       "73"
      ]
     },
     "execution_count": 15,
     "metadata": {},
     "output_type": "execute_result"
    }
   ],
   "source": [
    "len(links)"
   ]
  },
  {
   "cell_type": "code",
   "execution_count": 10,
   "metadata": {},
   "outputs": [],
   "source": [
    "# Save links to csv\n",
    "links = pd.DataFrame(data={\"links\": links})\n",
    "links.to_csv(\"links.csv\", sep=',')"
   ]
  },
  {
   "cell_type": "code",
   "execution_count": 27,
   "metadata": {},
   "outputs": [],
   "source": [
    "# Create a Pandas Excel writer using XlsxWriter as the engine.\n",
    "writer = pd.ExcelWriter('links.xlsx', engine='xlsxwriter')\n",
    "\n",
    "# Convert the dataframe to an XlsxWriter Excel object.\n",
    "links.to_excel(writer, sheet_name='links')\n",
    "\n",
    "# Close the Pandas Excel writer and output the Excel file.\n",
    "writer.save()"
   ]
  }
 ],
 "metadata": {
  "kernelspec": {
   "display_name": "Python 3",
   "language": "python",
   "name": "python3"
  },
  "language_info": {
   "codemirror_mode": {
    "name": "ipython",
    "version": 3
   },
   "file_extension": ".py",
   "mimetype": "text/x-python",
   "name": "python",
   "nbconvert_exporter": "python",
   "pygments_lexer": "ipython3",
   "version": "3.6.4"
  }
 },
 "nbformat": 4,
 "nbformat_minor": 2
}
