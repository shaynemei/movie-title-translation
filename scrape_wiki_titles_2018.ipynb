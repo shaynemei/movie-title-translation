{
 "cells": [
  {
   "cell_type": "code",
   "execution_count": 1,
   "metadata": {},
   "outputs": [],
   "source": [
    "import requests\n",
    "import re\n",
    "import pandas as pd\n",
    "from bs4 import BeautifulSoup"
   ]
  },
  {
   "cell_type": "code",
   "execution_count": 3,
   "metadata": {},
   "outputs": [
    {
     "data": {
      "text/plain": [
       "[<td style=\"\">神奇动物：格林德沃之罪<span id=\"noteTag-cite_ref-sup\"><sup class=\"reference\" id=\"cite_ref-2\"><a href=\"#cite_note-2\">[註 1]</a></sup></span></td>,\n",
       " <td style=\"\">怪獸與葛林戴華德之罪</td>,\n",
       " <td style=\"\">怪獸與葛林戴華德的罪行</td>]"
      ]
     },
     "execution_count": 3,
     "metadata": {},
     "output_type": "execute_result"
    }
   ],
   "source": [
    "page = requests.get('https://zh.wikipedia.org/wiki/%E6%80%AA%E7%8D%B8%E8%88%87%E8%91%9B%E6%9E%97%E6%88%B4%E8%8F%AF%E5%BE%B7%E7%9A%84%E7%BD%AA%E8%A1%8C')\n",
    "soup = BeautifulSoup(page.content, 'html.parser')\n",
    "table = soup.find('table', class_='infobox vevent')\n",
    "td = table.find_all('td')[-3:]\n",
    "td"
   ]
  },
  {
   "cell_type": "code",
   "execution_count": 26,
   "metadata": {},
   "outputs": [],
   "source": [
    "titlesCH = []\n",
    "titlesHK = []\n",
    "titlesTW = []"
   ]
  },
  {
   "cell_type": "code",
   "execution_count": 21,
   "metadata": {},
   "outputs": [],
   "source": [
    "linksdf = pd.read_excel('links.xlsx')\n",
    "links = linksdf['links']"
   ]
  },
  {
   "cell_type": "code",
   "execution_count": 25,
   "metadata": {},
   "outputs": [
    {
     "data": {
      "text/plain": [
       "'https://zh.wikipedia.org/wiki/%E5%BE%A9%E4%BB%87%E8%80%85%E8%81%AF%E7%9B%9F3%EF%BC%9A%E7%84%A1%E9%99%90%E4%B9%8B%E6%88%B0'"
      ]
     },
     "execution_count": 25,
     "metadata": {},
     "output_type": "execute_result"
    }
   ],
   "source": [
    "links[0][2:-2]"
   ]
  },
  {
   "cell_type": "code",
   "execution_count": 27,
   "metadata": {},
   "outputs": [],
   "source": [
    "for link in links:\n",
    "    try:\n",
    "        page = requests.get(link[2:-2])\n",
    "        soup = BeautifulSoup(page.content, 'html.parser')\n",
    "        table = soup.find('table', class_='infobox vevent')\n",
    "        td = table.find_all('td')[-3:]\n",
    "        titlesCH.append(td[0].get_text())\n",
    "        titlesHK.append(td[1].get_text())\n",
    "        titlesTW.append(td[2].get_text())\n",
    "    except:\n",
    "        titlesCH.append('null')\n",
    "        titlesHK.append('null')\n",
    "        titlesTW.append('null')"
   ]
  },
  {
   "cell_type": "code",
   "execution_count": 8,
   "metadata": {},
   "outputs": [],
   "source": [
    "titles = pd.read_excel('titles2018.xlsx')['Titles']"
   ]
  },
  {
   "cell_type": "code",
   "execution_count": 32,
   "metadata": {},
   "outputs": [],
   "source": [
    "results = pd.DataFrame({\n",
    "    'TitlesEN': titles,\n",
    "    'TitlesCH': titlesCH,\n",
    "    'TitlesHK': titlesHK,\n",
    "    'TitlesTW': titlesTW,\n",
    "    'wikiZH': links\n",
    "})"
   ]
  },
  {
   "cell_type": "code",
   "execution_count": 33,
   "metadata": {},
   "outputs": [],
   "source": [
    "# Create a Pandas Excel writer using XlsxWriter as the engine.\n",
    "writer = pd.ExcelWriter('final_2018.xlsx', engine='xlsxwriter')\n",
    "\n",
    "# Convert the dataframe to an XlsxWriter Excel object.\n",
    "results.to_excel(writer, sheet_name='2018')\n",
    "\n",
    "# Close the Pandas Excel writer and output the Excel file.\n",
    "writer.save()"
   ]
  },
  {
   "cell_type": "code",
   "execution_count": null,
   "metadata": {},
   "outputs": [],
   "source": []
  }
 ],
 "metadata": {
  "kernelspec": {
   "display_name": "Python 3",
   "language": "python",
   "name": "python3"
  },
  "language_info": {
   "codemirror_mode": {
    "name": "ipython",
    "version": 3
   },
   "file_extension": ".py",
   "mimetype": "text/x-python",
   "name": "python",
   "nbconvert_exporter": "python",
   "pygments_lexer": "ipython3",
   "version": "3.6.4"
  }
 },
 "nbformat": 4,
 "nbformat_minor": 2
}
