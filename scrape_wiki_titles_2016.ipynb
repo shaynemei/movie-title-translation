{
 "cells": [
  {
   "cell_type": "code",
   "execution_count": 10,
   "metadata": {},
   "outputs": [],
   "source": [
    "import requests\n",
    "import re\n",
    "import pandas as pd\n",
    "from bs4 import BeautifulSoup\n",
    "from openpyxl import load_workbook"
   ]
  },
  {
   "cell_type": "code",
   "execution_count": 2,
   "metadata": {},
   "outputs": [],
   "source": [
    "titlesCH = []\n",
    "titlesHK = []\n",
    "titlesTW = []"
   ]
  },
  {
   "cell_type": "code",
   "execution_count": 4,
   "metadata": {},
   "outputs": [],
   "source": [
    "linksdf = pd.read_csv('linksZH_2016.csv')\n",
    "links = linksdf['links']"
   ]
  },
  {
   "cell_type": "code",
   "execution_count": 5,
   "metadata": {},
   "outputs": [],
   "source": [
    "for link in links:\n",
    "    try:\n",
    "        page = requests.get(link)\n",
    "        soup = BeautifulSoup(page.content, 'html.parser')\n",
    "        table = soup.find('table', class_='infobox vevent')\n",
    "        td = table.find_all('td')[-3:]\n",
    "        titlesCH.append(td[0].get_text())\n",
    "        titlesHK.append(td[1].get_text())\n",
    "        titlesTW.append(td[2].get_text())\n",
    "    except:\n",
    "        titlesCH.append('null')\n",
    "        titlesHK.append('null')\n",
    "        titlesTW.append('null')"
   ]
  },
  {
   "cell_type": "code",
   "execution_count": 7,
   "metadata": {},
   "outputs": [],
   "source": [
    "titles = pd.read_excel('titles_2016.xlsx')['Titles']"
   ]
  },
  {
   "cell_type": "code",
   "execution_count": 8,
   "metadata": {},
   "outputs": [],
   "source": [
    "results = pd.DataFrame({\n",
    "    'TitlesEN': titles,\n",
    "    'TitlesCH': titlesCH,\n",
    "    'TitlesHK': titlesHK,\n",
    "    'TitlesTW': titlesTW,\n",
    "    'wikiZH': links\n",
    "})"
   ]
  },
  {
   "cell_type": "code",
   "execution_count": 11,
   "metadata": {},
   "outputs": [],
   "source": [
    "# Create a Pandas Excel writer using XlsxWriter as the engine.\n",
    "writer = pd.ExcelWriter('final_2016.xlsx', engine='xlsxwriter')\n",
    "\n",
    "# Convert the dataframe to an XlsxWriter Excel object.\n",
    "results.to_excel(writer, sheet_name='2016')\n",
    "\n",
    "# Close the Pandas Excel writer and output the Excel file.\n",
    "writer.save()"
   ]
  },
  {
   "cell_type": "code",
   "execution_count": 13,
   "metadata": {},
   "outputs": [],
   "source": [
    "# Write to an existing excel file and create new sheet\n",
    "with pd.ExcelWriter('final.xlsx', engine='openpyxl') as writer:\n",
    "    writer.book = load_workbook('final.xlsx')\n",
    "    results.to_excel(writer, sheet_name='2016')"
   ]
  },
  {
   "cell_type": "code",
   "execution_count": null,
   "metadata": {},
   "outputs": [],
   "source": []
  }
 ],
 "metadata": {
  "kernelspec": {
   "display_name": "Python 3",
   "language": "python",
   "name": "python3"
  },
  "language_info": {
   "codemirror_mode": {
    "name": "ipython",
    "version": 3
   },
   "file_extension": ".py",
   "mimetype": "text/x-python",
   "name": "python",
   "nbconvert_exporter": "python",
   "pygments_lexer": "ipython3",
   "version": "3.6.4"
  }
 },
 "nbformat": 4,
 "nbformat_minor": 2
}
