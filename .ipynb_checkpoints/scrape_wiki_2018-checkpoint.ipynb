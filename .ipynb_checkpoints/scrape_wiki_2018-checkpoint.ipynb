{
 "cells": [
  {
   "cell_type": "code",
   "execution_count": 19,
   "metadata": {},
   "outputs": [],
   "source": [
    "import requests\n",
    "import re\n",
    "import pandas as pd\n",
    "from bs4 import BeautifulSoup"
   ]
  },
  {
   "cell_type": "code",
   "execution_count": 20,
   "metadata": {},
   "outputs": [],
   "source": [
    "page = requests.get('https://en.wikipedia.org/wiki/Fantastic_Beasts_and_Where_to_Find_Them_(film)')\n",
    "soup = BeautifulSoup(page.content, 'html.parser')\n",
    "li = soup.find('li', class_='interlanguage-link interwiki-zh')\n",
    "lin = li.find('a')\n",
    "link = lin['href']"
   ]
  },
  {
   "cell_type": "code",
   "execution_count": 21,
   "metadata": {},
   "outputs": [
    {
     "data": {
      "text/html": [
       "<div>\n",
       "<style scoped>\n",
       "    .dataframe tbody tr th:only-of-type {\n",
       "        vertical-align: middle;\n",
       "    }\n",
       "\n",
       "    .dataframe tbody tr th {\n",
       "        vertical-align: top;\n",
       "    }\n",
       "\n",
       "    .dataframe thead th {\n",
       "        text-align: right;\n",
       "    }\n",
       "</style>\n",
       "<table border=\"1\" class=\"dataframe\">\n",
       "  <thead>\n",
       "    <tr style=\"text-align: right;\">\n",
       "      <th></th>\n",
       "      <th>Titles</th>\n",
       "    </tr>\n",
       "  </thead>\n",
       "  <tbody>\n",
       "    <tr>\n",
       "      <th>0</th>\n",
       "      <td>Avengers: Infinity War</td>\n",
       "    </tr>\n",
       "    <tr>\n",
       "      <th>1</th>\n",
       "      <td>Aquaman</td>\n",
       "    </tr>\n",
       "    <tr>\n",
       "      <th>2</th>\n",
       "      <td>Solo: A Star Wars Story</td>\n",
       "    </tr>\n",
       "    <tr>\n",
       "      <th>3</th>\n",
       "      <td>Fantastic Beasts: The Crimes of Grindelwald</td>\n",
       "    </tr>\n",
       "    <tr>\n",
       "      <th>4</th>\n",
       "      <td>Black Panther</td>\n",
       "    </tr>\n",
       "  </tbody>\n",
       "</table>\n",
       "</div>"
      ],
      "text/plain": [
       "                                        Titles\n",
       "0                       Avengers: Infinity War\n",
       "1                                      Aquaman\n",
       "2                      Solo: A Star Wars Story\n",
       "3  Fantastic Beasts: The Crimes of Grindelwald\n",
       "4                                Black Panther"
      ]
     },
     "execution_count": 21,
     "metadata": {},
     "output_type": "execute_result"
    }
   ],
   "source": [
    "df = pd.read_excel('titles2018.xlsx')\n",
    "df.head()"
   ]
  },
  {
   "cell_type": "code",
   "execution_count": 22,
   "metadata": {},
   "outputs": [
    {
     "data": {
      "text/plain": [
       "pandas.core.series.Series"
      ]
     },
     "execution_count": 22,
     "metadata": {},
     "output_type": "execute_result"
    }
   ],
   "source": [
    "titles = df['Titles']\n",
    "type(titles)"
   ]
  },
  {
   "cell_type": "code",
   "execution_count": 27,
   "metadata": {},
   "outputs": [
    {
     "data": {
      "text/plain": [
       "73"
      ]
     },
     "execution_count": 27,
     "metadata": {},
     "output_type": "execute_result"
    }
   ],
   "source": [
    "len(titles)"
   ]
  },
  {
   "cell_type": "code",
   "execution_count": 23,
   "metadata": {},
   "outputs": [],
   "source": [
    "links = []"
   ]
  },
  {
   "cell_type": "code",
   "execution_count": 26,
   "metadata": {},
   "outputs": [
    {
     "ename": "AttributeError",
     "evalue": "'NoneType' object has no attribute 'find'",
     "output_type": "error",
     "traceback": [
      "\u001b[0;31m---------------------------------------------------------------------------\u001b[0m",
      "\u001b[0;31mAttributeError\u001b[0m                            Traceback (most recent call last)",
      "\u001b[0;32m<ipython-input-26-9b358da82dfc>\u001b[0m in \u001b[0;36m<module>\u001b[0;34m()\u001b[0m\n\u001b[1;32m      2\u001b[0m \u001b[0msoup\u001b[0m \u001b[0;34m=\u001b[0m \u001b[0mBeautifulSoup\u001b[0m\u001b[0;34m(\u001b[0m\u001b[0mpage\u001b[0m\u001b[0;34m.\u001b[0m\u001b[0mcontent\u001b[0m\u001b[0;34m,\u001b[0m \u001b[0;34m'html.parser'\u001b[0m\u001b[0;34m)\u001b[0m\u001b[0;34m\u001b[0m\u001b[0m\n\u001b[1;32m      3\u001b[0m \u001b[0mli\u001b[0m \u001b[0;34m=\u001b[0m \u001b[0msoup\u001b[0m\u001b[0;34m.\u001b[0m\u001b[0mfind\u001b[0m\u001b[0;34m(\u001b[0m\u001b[0;34m'li'\u001b[0m\u001b[0;34m,\u001b[0m \u001b[0mclass_\u001b[0m\u001b[0;34m=\u001b[0m\u001b[0;34m'interlanguage-link interwiki-zh'\u001b[0m\u001b[0;34m)\u001b[0m\u001b[0;34m\u001b[0m\u001b[0m\n\u001b[0;32m----> 4\u001b[0;31m \u001b[0mlin\u001b[0m \u001b[0;34m=\u001b[0m \u001b[0mli\u001b[0m\u001b[0;34m.\u001b[0m\u001b[0mfind\u001b[0m\u001b[0;34m(\u001b[0m\u001b[0;34m'a'\u001b[0m\u001b[0;34m)\u001b[0m\u001b[0;34m\u001b[0m\u001b[0m\n\u001b[0m\u001b[1;32m      5\u001b[0m \u001b[0mlink\u001b[0m \u001b[0;34m=\u001b[0m \u001b[0mlin\u001b[0m\u001b[0;34m[\u001b[0m\u001b[0;34m'href'\u001b[0m\u001b[0;34m]\u001b[0m\u001b[0;34m\u001b[0m\u001b[0m\n",
      "\u001b[0;31mAttributeError\u001b[0m: 'NoneType' object has no attribute 'find'"
     ]
    }
   ],
   "source": [
    "page = requests.get('https://en.wikipedia.org/wiki/Jurassic_World:_Fallen_Kingdom_(film)')\n",
    "soup = BeautifulSoup(page.content, 'html.parser')\n",
    "li = soup.find('li', class_='interlanguage-link interwiki-zh')\n",
    "lin = li.find('a')\n",
    "link = lin['href']"
   ]
  },
  {
   "cell_type": "code",
   "execution_count": 30,
   "metadata": {},
   "outputs": [
    {
     "name": "stdout",
     "output_type": "stream",
     "text": [
      "Now processing title number0\n",
      "Now processing title number1\n",
      "Now processing title number2\n",
      "Now processing title number3\n",
      "Now processing title number4\n",
      "Now processing title number5\n",
      "Now processing title number6\n",
      "Now processing title number7\n",
      "Now processing title number8\n",
      "Now processing title number9\n",
      "Now processing title number10\n",
      "Now processing title number11\n",
      "Now processing title number12\n",
      "Now processing title number13\n",
      "Now processing title number14\n",
      "Now processing title number15\n",
      "Now processing title number16\n",
      "Now processing title number17\n",
      "Now processing title number18\n",
      "Now processing title number19\n",
      "Now processing title number20\n",
      "Now processing title number21\n",
      "Now processing title number22\n",
      "Now processing title number23\n",
      "Now processing title number24\n",
      "Now processing title number25\n",
      "Now processing title number26\n",
      "Now processing title number27\n",
      "Now processing title number28\n",
      "Now processing title number29\n",
      "Now processing title number30\n",
      "Now processing title number31\n",
      "Now processing title number32\n",
      "Now processing title number33\n",
      "Now processing title number34\n",
      "Now processing title number35\n",
      "Now processing title number36\n",
      "Now processing title number37\n",
      "Now processing title number38\n",
      "Now processing title number39\n",
      "Now processing title number40\n",
      "Now processing title number41\n",
      "Now processing title number42\n",
      "Now processing title number43\n",
      "Now processing title number44\n",
      "Now processing title number45\n"
     ]
    }
   ],
   "source": [
    "for idx, title in enumerate(titles):\n",
    "    title = title.replace(' ','_')\n",
    "    print('Now processing title number' + str(idx))\n",
    "    try:\n",
    "        try:\n",
    "            tmp = []\n",
    "            path = 'https://en.wikipedia.org/wiki/' + title + '_(film)'\n",
    "            page = requests.get(path)\n",
    "            soup = BeautifulSoup(page.content, 'html.parser')\n",
    "            li = soup.find('li', class_='interlanguage-link interwiki-zh')\n",
    "            lin = li.find('a')\n",
    "            link = lin['href']\n",
    "            links.append(link)\n",
    "        except:\n",
    "            path = 'https://en.wikipedia.org/wiki/' + title\n",
    "            page = requests.get(path)\n",
    "            soup = BeautifulSoup(page.content, 'html.parser')\n",
    "            li = soup.find('li', class_='interlanguage-link interwiki-zh')\n",
    "            lin = li.find('a')\n",
    "            link = lin['href']\n",
    "            links.append(link)\n",
    "    except:\n",
    "        links.append('404')"
   ]
  },
  {
   "cell_type": "code",
   "execution_count": 31,
   "metadata": {},
   "outputs": [
    {
     "data": {
      "text/plain": [
       "100"
      ]
     },
     "execution_count": 31,
     "metadata": {},
     "output_type": "execute_result"
    }
   ],
   "source": [
    "len(links)"
   ]
  },
  {
   "cell_type": "code",
   "execution_count": 32,
   "metadata": {},
   "outputs": [
    {
     "data": {
      "text/plain": [
       "['https://zh.wikipedia.org/wiki/%E5%BE%A9%E4%BB%87%E8%80%85%E8%81%AF%E7%9B%9F3%EF%BC%9A%E7%84%A1%E9%99%90%E4%B9%8B%E6%88%B0',\n",
       " 'https://zh.wikipedia.org/wiki/%E6%B0%B4%E8%A1%8C%E4%BF%A0_(%E9%9B%BB%E5%BD%B1)',\n",
       " 'https://zh.wikipedia.org/wiki/%E6%98%9F%E9%9A%9B%E5%A4%A7%E6%88%B0%E5%A4%96%E5%82%B3%EF%BC%9A%E9%9F%93%E7%B4%A2%E7%BE%85',\n",
       " 'https://zh.wikipedia.org/wiki/%E6%80%AA%E7%8D%B8%E8%88%87%E8%91%9B%E6%9E%97%E6%88%B4%E8%8F%AF%E5%BE%B7%E7%9A%84%E7%BD%AA%E8%A1%8C',\n",
       " 'https://zh.wikipedia.org/wiki/%E9%BB%91%E8%B1%B9_(%E9%9B%BB%E5%BD%B1)',\n",
       " 'https://zh.wikipedia.org/wiki/%E6%A0%BC%E9%9B%B7%E7%9A%84%E4%BA%94%E5%8D%81%E9%81%93%E9%99%B0%E5%BD%B1%EF%BC%9A%E8%87%AA%E7%94%B1_(%E9%9B%BB%E5%BD%B1)',\n",
       " 'https://zh.wikipedia.org/wiki/%E8%9C%98%E8%9B%9B%E4%BA%BA%EF%BC%9A%E6%96%B0%E5%AE%87%E5%AE%99',\n",
       " 'https://zh.wikipedia.org/wiki/%E4%BE%8F%E7%BE%85%E7%B4%80%E4%B8%96%E7%95%8C%EF%BC%9A%E6%AE%9E%E8%90%BD%E5%9C%8B%E5%BA%A6',\n",
       " 'https://zh.wikipedia.org/wiki/%E8%9F%BB%E4%BA%BA%E8%88%87%E9%BB%83%E8%9C%82%E5%A5%B3',\n",
       " 'https://zh.wikipedia.org/wiki/%E5%B0%96%E5%8F%AB%E6%97%85%E7%A4%BE3%EF%BC%9A%E6%80%AA%E7%8D%B8%E5%81%87%E6%9C%9F',\n",
       " 'https://zh.wikipedia.org/wiki/%E7%B3%AF%E7%88%BE%E6%91%A9%E6%96%AF',\n",
       " 'https://zh.wikipedia.org/wiki/%E5%A4%A7%E9%BB%83%E8%9C%82_(%E9%9B%BB%E5%BD%B1)',\n",
       " 'https://zh.wikipedia.org/wiki/%E6%AF%9B%E5%85%8B%E5%88%A9',\n",
       " 'https://zh.wikipedia.org/wiki/%E9%AC%BC%E9%9D%88%E7%B2%BE_(2018%E5%B9%B4%E9%9B%BB%E5%BD%B1)',\n",
       " 'https://zh.wikipedia.org/wiki/%E7%84%A1%E6%95%B5%E7%A0%B4%E5%A3%9E%E7%8E%8B2%EF%BC%9A%E7%B6%B2%E8%B7%AF%E5%A4%A7%E6%9A%B4%E8%B5%B0',\n",
       " 'https://zh.wikipedia.org/wiki/%E7%92%B0%E5%A4%AA%E5%B9%B3%E6%B4%8B2%EF%BC%9A%E8%B5%B7%E7%BE%A9%E6%99%82%E5%88%BB',\n",
       " 'https://zh.wikipedia.org/wiki/%E7%A7%BB%E5%8B%95%E8%BF%B7%E5%AE%AE%EF%BC%9A%E6%AD%BB%E4%BA%A1%E8%A7%A3%E8%97%A5',\n",
       " 'https://zh.wikipedia.org/wiki/%E5%8F%A4%E5%A2%93%E4%B8%BD%E5%BD%B1%EF%BC%9A%E6%BA%90%E8%B5%B7%E4%B9%8B%E6%88%98',\n",
       " 'https://zh.wikipedia.org/wiki/%E6%AD%BB%E4%BE%8D2',\n",
       " 'https://zh.wikipedia.org/wiki/%E4%B8%80%E7%B4%9A%E7%8E%A9%E5%AE%B6_(%E9%9B%BB%E5%BD%B1)',\n",
       " 'https://zh.wikipedia.org/wiki/%E7%B5%82%E6%A5%B5%E6%88%B0%E5%A3%AB%EF%BC%9A%E6%8E%A0%E5%A5%AA%E8%80%85',\n",
       " 'https://zh.wikipedia.org/wiki/%E6%84%9B%C2%B7%E6%BB%BF%E4%BA%BA%E9%96%93',\n",
       " 'https://zh.wikipedia.org/wiki/%E8%83%A1%E6%A1%83%E9%89%97%E8%88%87%E5%A5%87%E5%B9%BB%E5%9B%9B%E5%9C%8B',\n",
       " 'https://zh.wikipedia.org/wiki/%E7%9E%9E%E5%A4%A9%E9%81%8E%E6%B5%B7%EF%BC%9A%E5%85%AB%E9%9D%A2%E7%8E%B2%E7%93%8F',\n",
       " 'https://zh.wikipedia.org/wiki/%E8%B6%85%E4%BA%BA%E7%89%B9%E6%94%BB%E9%9A%8A2',\n",
       " 'https://zh.wikipedia.org/wiki/%E4%B8%8D%E5%8F%AF%E8%83%BD%E7%9A%84%E4%BB%BB%E5%8B%99%EF%BC%9A%E5%85%A8%E9%9D%A2%E7%93%A6%E8%A7%A3',\n",
       " 'https://zh.wikipedia.org/wiki/%E7%A7%81%E5%88%91%E6%95%99%E8%82%B22',\n",
       " 'https://zh.wikipedia.org/wiki/%E5%BE%A9%E4%BB%87%E8%80%85%E8%81%AF%E7%9B%9F3%EF%BC%9A%E7%84%A1%E9%99%90%E4%B9%8B%E6%88%B0',\n",
       " 'https://zh.wikipedia.org/wiki/%E6%B0%B4%E8%A1%8C%E4%BF%A0_(%E9%9B%BB%E5%BD%B1)',\n",
       " 'https://zh.wikipedia.org/wiki/%E6%98%9F%E9%9A%9B%E5%A4%A7%E6%88%B0%E5%A4%96%E5%82%B3%EF%BC%9A%E9%9F%93%E7%B4%A2%E7%BE%85',\n",
       " 'https://zh.wikipedia.org/wiki/%E6%80%AA%E7%8D%B8%E8%88%87%E8%91%9B%E6%9E%97%E6%88%B4%E8%8F%AF%E5%BE%B7%E7%9A%84%E7%BD%AA%E8%A1%8C',\n",
       " 'https://zh.wikipedia.org/wiki/%E9%BB%91%E8%B1%B9_(%E9%9B%BB%E5%BD%B1)',\n",
       " 'https://zh.wikipedia.org/wiki/%E6%A0%BC%E9%9B%B7%E7%9A%84%E4%BA%94%E5%8D%81%E9%81%93%E9%99%B0%E5%BD%B1%EF%BC%9A%E8%87%AA%E7%94%B1_(%E9%9B%BB%E5%BD%B1)',\n",
       " 'https://zh.wikipedia.org/wiki/%E8%9C%98%E8%9B%9B%E4%BA%BA%EF%BC%9A%E6%96%B0%E5%AE%87%E5%AE%99',\n",
       " 'https://zh.wikipedia.org/wiki/%E4%BE%8F%E7%BE%85%E7%B4%80%E4%B8%96%E7%95%8C%EF%BC%9A%E6%AE%9E%E8%90%BD%E5%9C%8B%E5%BA%A6',\n",
       " 'https://zh.wikipedia.org/wiki/%E8%9F%BB%E4%BA%BA%E8%88%87%E9%BB%83%E8%9C%82%E5%A5%B3',\n",
       " 'https://zh.wikipedia.org/wiki/%E5%B0%96%E5%8F%AB%E6%97%85%E7%A4%BE3%EF%BC%9A%E6%80%AA%E7%8D%B8%E5%81%87%E6%9C%9F',\n",
       " 'https://zh.wikipedia.org/wiki/%E7%B3%AF%E7%88%BE%E6%91%A9%E6%96%AF',\n",
       " 'https://zh.wikipedia.org/wiki/%E5%A4%A7%E9%BB%83%E8%9C%82_(%E9%9B%BB%E5%BD%B1)',\n",
       " 'https://zh.wikipedia.org/wiki/%E6%AF%9B%E5%85%8B%E5%88%A9',\n",
       " 'https://zh.wikipedia.org/wiki/%E9%AC%BC%E9%9D%88%E7%B2%BE_(2018%E5%B9%B4%E9%9B%BB%E5%BD%B1)',\n",
       " 'https://zh.wikipedia.org/wiki/%E7%84%A1%E6%95%B5%E7%A0%B4%E5%A3%9E%E7%8E%8B2%EF%BC%9A%E7%B6%B2%E8%B7%AF%E5%A4%A7%E6%9A%B4%E8%B5%B0',\n",
       " 'https://zh.wikipedia.org/wiki/%E7%92%B0%E5%A4%AA%E5%B9%B3%E6%B4%8B2%EF%BC%9A%E8%B5%B7%E7%BE%A9%E6%99%82%E5%88%BB',\n",
       " 'https://zh.wikipedia.org/wiki/%E7%A7%BB%E5%8B%95%E8%BF%B7%E5%AE%AE%EF%BC%9A%E6%AD%BB%E4%BA%A1%E8%A7%A3%E8%97%A5',\n",
       " 'https://zh.wikipedia.org/wiki/%E5%8F%A4%E5%A2%93%E4%B8%BD%E5%BD%B1%EF%BC%9A%E6%BA%90%E8%B5%B7%E4%B9%8B%E6%88%98',\n",
       " 'https://zh.wikipedia.org/wiki/%E6%AD%BB%E4%BE%8D2',\n",
       " 'https://zh.wikipedia.org/wiki/%E4%B8%80%E7%B4%9A%E7%8E%A9%E5%AE%B6_(%E9%9B%BB%E5%BD%B1)',\n",
       " 'https://zh.wikipedia.org/wiki/%E7%B5%82%E6%A5%B5%E6%88%B0%E5%A3%AB%EF%BC%9A%E6%8E%A0%E5%A5%AA%E8%80%85',\n",
       " 'https://zh.wikipedia.org/wiki/%E6%84%9B%C2%B7%E6%BB%BF%E4%BA%BA%E9%96%93',\n",
       " 'https://zh.wikipedia.org/wiki/%E8%83%A1%E6%A1%83%E9%89%97%E8%88%87%E5%A5%87%E5%B9%BB%E5%9B%9B%E5%9C%8B',\n",
       " 'https://zh.wikipedia.org/wiki/%E7%9E%9E%E5%A4%A9%E9%81%8E%E6%B5%B7%EF%BC%9A%E5%85%AB%E9%9D%A2%E7%8E%B2%E7%93%8F',\n",
       " 'https://zh.wikipedia.org/wiki/%E8%B6%85%E4%BA%BA%E7%89%B9%E6%94%BB%E9%9A%8A2',\n",
       " 'https://zh.wikipedia.org/wiki/%E4%B8%8D%E5%8F%AF%E8%83%BD%E7%9A%84%E4%BB%BB%E5%8B%99%EF%BC%9A%E5%85%A8%E9%9D%A2%E7%93%A6%E8%A7%A3',\n",
       " 'https://zh.wikipedia.org/wiki/%E7%A7%81%E5%88%91%E6%95%99%E8%82%B22',\n",
       " '404',\n",
       " 'https://zh.wikipedia.org/wiki/%E6%AF%92%E6%B6%B2',\n",
       " 'https://zh.wikipedia.org/wiki/%E9%8B%BC%E9%90%B5%E5%A2%B3%E5%A2%932',\n",
       " '404',\n",
       " 'https://zh.wikipedia.org/wiki/%E6%AE%BA%E6%88%AE%E5%85%83%E5%B9%B4',\n",
       " 'https://zh.wikipedia.org/wiki/%E9%87%91%E7%89%8C%E6%8B%B3%E6%89%8B2',\n",
       " 'https://zh.wikipedia.org/wiki/%E9%99%B0%E5%85%92%E6%88%BF%E7%AC%AC4%E7%AB%A0%EF%BC%9A%E9%8E%96%E5%91%BD%E4%BA%A1%E9%9D%88',\n",
       " '404',\n",
       " 'https://zh.wikipedia.org/wiki/%E6%BB%85%E7%B5%95_(%E9%9B%BB%E5%BD%B1)',\n",
       " 'https://zh.wikipedia.org/wiki/%E6%80%92%E7%81%AB%E9%82%8A%E7%95%8C2%EF%BC%9A%E6%AF%92%E5%88%91%E8%80%85',\n",
       " 'https://zh.wikipedia.org/wiki/%E5%AA%BD%E5%AA%BD%E5%92%AA%E5%91%80%EF%BC%81%E5%9B%9E%E4%BE%86%E4%BA%86',\n",
       " '404',\n",
       " 'https://zh.wikipedia.org/wiki/12%E7%8C%9B%E6%BC%A2',\n",
       " 'https://zh.wikipedia.org/wiki/%E4%B8%87%E5%9C%A3%E5%A4%9C',\n",
       " 'https://zh.wikipedia.org/wiki/%E7%89%B9%E5%8B%99%E6%88%87J%EF%BC%9A%E7%A5%9E%E7%B4%9A%E6%AD%B8%E4%BD%8D',\n",
       " '404',\n",
       " 'https://zh.wikipedia.org/wiki/%E7%A7%BB%E5%8B%95%E5%9F%8E%E5%B8%82%EF%BC%9A%E8%87%B4%E5%91%BD%E5%BC%95%E6%93%8E',\n",
       " 'https://zh.wikipedia.org/wiki/%E7%96%BE%E9%80%9F%E6%95%91%E6%8F%B4',\n",
       " 'https://zh.wikipedia.org/wiki/%E6%91%A9%E5%A4%A9%E5%A4%A7%E6%A8%93',\n",
       " '404',\n",
       " '404',\n",
       " 'https://zh.wikipedia.org/wiki/%E6%A5%B5%E7%9B%9C%E6%88%B0',\n",
       " 'https://zh.wikipedia.org/wiki/%E6%BA%AB%E5%BE%B9%E6%96%AF%E7%89%B9%E9%AC%BC%E5%B1%8B_(%E9%9B%BB%E5%BD%B1)',\n",
       " 'https://zh.wikipedia.org/wiki/%E6%AF%94%E5%BE%97%E5%85%94_(%E9%9B%BB%E5%BD%B1)',\n",
       " 'https://zh.wikipedia.org/wiki/15:17_%E5%B7%B4%E9%BB%8E%E5%88%97%E8%BB%8A',\n",
       " 'https://zh.wikipedia.org/wiki/%E7%9F%B3%E5%99%A8%E5%B0%8F%E8%8B%B1%E9%9B%84',\n",
       " 'https://zh.wikipedia.org/wiki/%E5%8F%83%E5%AD%AB',\n",
       " 'https://zh.wikipedia.org/wiki/%E9%81%8A%E6%88%B2%E5%A4%9C%E6%AE%BA%E5%BF%85%E6%AD%BB',\n",
       " 'https://zh.wikipedia.org/wiki/%E7%B4%85%E9%9B%80_(%E9%9B%BB%E5%BD%B1)',\n",
       " 'https://zh.wikipedia.org/wiki/%CE%91',\n",
       " '404',\n",
       " 'https://zh.wikipedia.org/wiki/%E5%8F%AA%E6%AE%BA%E9%99%8C%E7%94%9F%E4%BA%BA',\n",
       " 'https://zh.wikipedia.org/wiki/%E7%8E%A9%E5%91%BD%E9%A2%B6%E9%A2%A8',\n",
       " 'https://zh.wikipedia.org/wiki/%E6%81%A9%E5%BE%B7%E5%9F%B9%E8%A1%8C%E5%8B%95_(%E9%9B%BB%E5%BD%B1)',\n",
       " 'https://zh.wikipedia.org/wiki/%E6%B3%A2%E5%B8%8C%E7%B1%B3%E4%BA%9E%E7%8B%82%E6%83%B3%E6%9B%B2_(%E9%9B%BB%E5%BD%B1)',\n",
       " 'https://zh.wikipedia.org/wiki/%E7%A7%91%E6%B4%9B%E5%BC%97%E6%82%96%E8%AB%96',\n",
       " 'https://zh.wikipedia.org/wiki/%E8%89%BE%E8%8E%89%E5%A1%94%EF%BC%9A%E6%88%B0%E9%AC%A5%E5%A4%A9%E4%BD%BF',\n",
       " '404',\n",
       " '404',\n",
       " '404',\n",
       " 'https://zh.wikipedia.org/wiki/%E7%8A%AC%E4%B9%8B%E5%B3%B6',\n",
       " 'https://zh.wikipedia.org/wiki/%E8%80%81%E5%A8%98%E4%B9%9F%E8%A6%81%E7%95%B6%E9%96%93%E8%AB%9C',\n",
       " '404',\n",
       " 'https://zh.wikipedia.org/wiki/Terminal',\n",
       " 'https://zh.wikipedia.org/wiki/%E8%A6%96%E7%95%8C%E6%88%B0',\n",
       " 'https://zh.wikipedia.org/wiki/%E4%BC%8A%E7%BB%B4%E8%90%A8%E5%B2%9B']"
      ]
     },
     "execution_count": 32,
     "metadata": {},
     "output_type": "execute_result"
    }
   ],
   "source": []
  },
  {
   "cell_type": "code",
   "execution_count": null,
   "metadata": {},
   "outputs": [],
   "source": []
  }
 ],
 "metadata": {
  "kernelspec": {
   "display_name": "Python 3",
   "language": "python",
   "name": "python3"
  },
  "language_info": {
   "codemirror_mode": {
    "name": "ipython",
    "version": 3
   },
   "file_extension": ".py",
   "mimetype": "text/x-python",
   "name": "python",
   "nbconvert_exporter": "python",
   "pygments_lexer": "ipython3",
   "version": "3.6.4"
  }
 },
 "nbformat": 4,
 "nbformat_minor": 2
}
